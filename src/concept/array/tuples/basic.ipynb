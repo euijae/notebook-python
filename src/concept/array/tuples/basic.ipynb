{
 "cells": [
  {
   "cell_type": "code",
   "execution_count": 5,
   "metadata": {
    "collapsed": true
   },
   "outputs": [
    {
     "name": "stdout",
     "output_type": "stream",
     "text": [
      "33\n",
      "(BRA, CE342567)\n",
      "(ESP, XDA205856)\n",
      "(USA, 31195855)\n",
      "(USA, 31195855)\n",
      "(BRA, CE342567)\n",
      "(ESP, XDA205856)\n"
     ]
    }
   ],
   "source": [
    "lax_coordinates = (33, 34)\n",
    "print(lax_coordinates[0])\n",
    "\n",
    "city, year, pop, chg, area = (\n",
    "    'Tokyo',\n",
    "    2003,\n",
    "    32450,\n",
    "    0.66,\n",
    "    8014\n",
    ")\n",
    "\n",
    "traveler_ids = [\n",
    "    ('USA', '31195855'),\n",
    "    ('BRA', 'CE342567'),\n",
    "    ('ESP', 'XDA205856')\n",
    "]\n",
    "\n",
    "for passport in sorted(traveler_ids):\n",
    "    print('(%s, %s)' % passport)\n",
    "\n",
    "# unpacking - retrieve the items of tuple separately\n",
    "# Tuple unpacking works with any iterable object.\n",
    "for country, _ in traveler_ids:\n",
    "    print(country)\n"
   ]
  }
 ],
 "metadata": {
  "kernelspec": {
   "display_name": "Python 3",
   "language": "python",
   "name": "python3"
  },
  "language_info": {
   "codemirror_mode": {
    "name": "ipython",
    "version": 2
   },
   "file_extension": ".py",
   "mimetype": "text/x-python",
   "name": "python",
   "nbconvert_exporter": "python",
   "pygments_lexer": "ipython2",
   "version": "2.7.6"
  }
 },
 "nbformat": 4,
 "nbformat_minor": 0
}
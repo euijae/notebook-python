{
 "cells": [
  {
   "cell_type": "code",
   "execution_count": 23,
   "metadata": {
    "collapsed": true,
    "pycharm": {
     "name": "#%%\n"
    }
   },
   "outputs": [
    {
     "name": "stdout",
     "output_type": "stream",
     "text": [
      "Point(x=10, y=20)\n",
      "p.x = 10\n",
      "p.y = 20\n",
      "p[0]= 10\n",
      "p[1]= 20\n",
      "getattr = 10\n"
     ]
    }
   ],
   "source": [
    "\"\"\"\n",
    "1.  namedtuple can be used to build classes of objects that are just\n",
    "    bundles of attributes with no custom methods, like a database record.\n",
    "2.  collections.namedtuple is a factory that produces subclasses of tuple\n",
    "    enhanced with field names and a class name\n",
    "3.  Instances of a class that you build with namedtuple take exactly the same\n",
    "    amount of memory as tuples because the field names are stored in the class.\n",
    "    They use less memory than a regular object because they don't store attributes\n",
    "    in a per-instance __dict__\n",
    "\"\"\"\n",
    "\n",
    "from collections import namedtuple"
   ]
  },
  {
   "cell_type": "code",
   "execution_count": 26,
   "outputs": [
    {
     "name": "stdout",
     "output_type": "stream",
     "text": [
      "Point(x=10, y=20)\n",
      "p.x = 10\n",
      "p.y = 20\n",
      "p[0]= 10\n",
      "p[1]= 20\n",
      "getattr = 10\n",
      "fields =  ('x', 'y')\n",
      "Convert to dictionary =  {'x': 10, 'y': 20}\n",
      "unpack x =  10  y: 20\n",
      "Convert from dictionary =  Point(x=10, y=20)\n",
      "set new x =  Point(x=100, y=20)\n"
     ]
    }
   ],
   "source": [
    "Point = namedtuple('Point', ['x', 'y'])\n",
    "\n",
    "p = Point(10, 20)\n",
    "\n",
    "print(p)\n",
    "print('p.x =', p.x)\n",
    "print('p.y =', p.y)\n",
    "print('p[0]=', p[0])\n",
    "print('p[1]=', p[1])\n",
    "print('getattr =', getattr(p, 'x'))\n",
    "print('fields = ', p._fields)\n",
    "\n",
    "d = p._asdict()     # convert to dict\n",
    "x, y = p            # unpack p\n",
    "\n",
    "print('Convert to dictionary = ', d)\n",
    "print('unpack x = ', x, ' y:', y)\n",
    "print('Convert from dictionary = ', Point(**d))\n",
    "newP = p._replace(x = 100)\n",
    "print('set new x = ', newP)"
   ],
   "metadata": {
    "collapsed": false,
    "pycharm": {
     "name": "#%% How to define namedtuple and simple applications\n"
    }
   }
  },
  {
   "cell_type": "code",
   "execution_count": 32,
   "outputs": [
    {
     "name": "stdout",
     "output_type": "stream",
     "text": [
      "City(name='Tokyo', country='JP', population=36.933, coordinates=(35.689722, 139.691667))\n",
      "[dot access] pop = 36.933, coord = (35.689722, 139.691667)\n",
      "[index access] tokyo[1] = JP\n",
      "{'name': 'Delhi NCR', 'country': 'IN', 'population': 21.935, 'coordinates': LatLong(lat=28.613889, long=77.208889)}\n"
     ]
    }
   ],
   "source": [
    "City = namedtuple('City', 'name country population coordinates')\n",
    "tokyo = City('Tokyo', 'JP', 36.933, (35.689722, 139.691667))\n",
    "print(tokyo)\n",
    "print('[dot access] pop = %s, coord = %s' % (tokyo.population, tokyo.coordinates))\n",
    "print('[index access] tokyo[1] = %s' % tokyo[1])\n",
    "\n",
    "LatLong = namedtuple('LatLong', 'lat long')\n",
    "delhi_data = ('Delhi NCR', 'IN', 21.935, LatLong(28.613889, 77.208889))\n",
    "delhi = City._make(delhi_data)  # instantiate a named tuple from an iterable. `City(*delhi_data)` would do the same\n",
    "print(delhi._asdict())  # _asdict returns a collections.OrderedDict built from named tuple instance\n",
    "\n"
   ],
   "metadata": {
    "collapsed": false,
    "pycharm": {
     "name": "#%% More example how to define namedtuple\n"
    }
   }
  }
 ],
 "metadata": {
  "kernelspec": {
   "display_name": "Python 3",
   "language": "python",
   "name": "python3"
  },
  "language_info": {
   "codemirror_mode": {
    "name": "ipython",
    "version": 2
   },
   "file_extension": ".py",
   "mimetype": "text/x-python",
   "name": "python",
   "nbconvert_exporter": "python",
   "pygments_lexer": "ipython2",
   "version": "2.7.6"
  },
  "pycharm": {
   "stem_cell": {
    "cell_type": "raw",
    "source": [
     "\n"
    ],
    "metadata": {
     "collapsed": false
    }
   }
  }
 },
 "nbformat": 4,
 "nbformat_minor": 0
}
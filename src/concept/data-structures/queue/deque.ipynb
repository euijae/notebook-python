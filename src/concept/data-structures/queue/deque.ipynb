{
 "cells": [
  {
   "cell_type": "code",
   "execution_count": 9,
   "metadata": {
    "collapsed": true
   },
   "outputs": [
    {
     "name": "stdout",
     "output_type": "stream",
     "text": [
      "deque([0, 1, 2, 3, 4, 5, 6, 7, 8, 9], maxlen=10)\n",
      "deque([7, 8, 9, 0, 1, 2, 3, 4, 5, 6], maxlen=10)\n",
      "deque([1, 2, 3, 4, 5, 6, 7, 8, 9, 0], maxlen=10)\n",
      "deque([-1, 1, 2, 3, 4, 5, 6, 7, 8, 9], maxlen=10)\n",
      "deque([40, 30, 20, 10, -1, 1, 2, 3, 4, 5], maxlen=10)\n"
     ]
    }
   ],
   "source": [
    "from collections import deque\n",
    "\n",
    "\"\"\"\n",
    "1. compare to list, deque has features like popleft and rotate.\n",
    "2. hidden cost of deque is removing items from the middle is not as fast.\n",
    "3. The deque is really optimized for appending and removing from the ends\n",
    "4. The append and popleft are atomic so deque is safe to use as LIFO in multithreaded applications w/o need for using locks (quote pg 56)\n",
    "\"\"\"\n",
    "\n",
    "dq = deque(range(10), maxlen=10)\n",
    "print(dq)\n",
    "dq.rotate(3)\n",
    "print(dq)\n",
    "dq.rotate(-4)\n",
    "print(dq)\n",
    "dq.appendleft(-1)  # discards items from the other end when dq is full\n",
    "print(dq)\n",
    "dq.extendleft([10, 20, 30, 40])\n",
    "\n",
    "# appending each successive item of the iter arg to the left of the deque\n",
    "# so the final position of the items is reversed\n",
    "print(dq)"
   ]
  },
  {
   "cell_type": "code",
   "execution_count": null,
   "outputs": [],
   "source": [
    "import heapq\n",
    "import asyncio\n",
    "import multiprocessing\n",
    "import queue"
   ],
   "metadata": {
    "collapsed": false,
    "pycharm": {
     "name": "#%%\n"
    }
   }
  }
 ],
 "metadata": {
  "kernelspec": {
   "display_name": "Python 3",
   "language": "python",
   "name": "python3"
  },
  "language_info": {
   "codemirror_mode": {
    "name": "ipython",
    "version": 2
   },
   "file_extension": ".py",
   "mimetype": "text/x-python",
   "name": "python",
   "nbconvert_exporter": "python",
   "pygments_lexer": "ipython2",
   "version": "2.7.6"
  }
 },
 "nbformat": 4,
 "nbformat_minor": 0
}
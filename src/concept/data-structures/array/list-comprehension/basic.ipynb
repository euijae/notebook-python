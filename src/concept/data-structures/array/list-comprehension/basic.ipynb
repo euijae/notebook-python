{
 "cells": [
  {
   "cell_type": "code",
   "execution_count": 1,
   "metadata": {
    "collapsed": true,
    "pycharm": {
     "name": "#%% Build a list of unicode codepoints from a string\n"
    }
   },
   "outputs": [
    {
     "name": "stdout",
     "output_type": "stream",
     "text": [
      "[36, 37, 94, 38, 42]\n"
     ]
    }
   ],
   "source": [
    "symbols = '$%^&*'\n",
    "codes = []\n",
    "\"\"\"\n",
    "A for loop may be used to do lots of different things: scanning a sequence to count\n",
    "or pick items, computing aggregates (sums, averages), or any number of other processing tasks.\n",
    "\"\"\"\n",
    "for symbol in symbols:\n",
    "    codes.append(ord(symbol))\n",
    "\n",
    "print(codes)"
   ]
  },
  {
   "cell_type": "code",
   "execution_count": 2,
   "outputs": [
    {
     "name": "stdout",
     "output_type": "stream",
     "text": [
      "[36, 37, 94, 38, 42]\n"
     ]
    }
   ],
   "source": [
    "symbols = '$%^&*'\n",
    "# In contrast, a listcomp is meant to do one thing only: to build a new list.\n",
    "codes = [ord(symbol) for symbol in symbols]\n",
    "print(codes)"
   ],
   "metadata": {
    "collapsed": false,
    "pycharm": {
     "name": "#%% build a list of unicode codepoints using generator expressions (genexps)\n"
    }
   }
  }
 ],
 "metadata": {
  "kernelspec": {
   "display_name": "Python 3",
   "language": "python",
   "name": "python3"
  },
  "language_info": {
   "codemirror_mode": {
    "name": "ipython",
    "version": 2
   },
   "file_extension": ".py",
   "mimetype": "text/x-python",
   "name": "python",
   "nbconvert_exporter": "python",
   "pygments_lexer": "ipython2",
   "version": "2.7.6"
  }
 },
 "nbformat": 4,
 "nbformat_minor": 0
}
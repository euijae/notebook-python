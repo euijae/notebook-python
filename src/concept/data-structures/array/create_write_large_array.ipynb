{
 "cells": [
  {
   "cell_type": "code",
   "execution_count": 2,
   "outputs": [
    {
     "name": "stdout",
     "output_type": "stream",
     "text": [
      "True\n"
     ]
    }
   ],
   "source": [
    "from array import array\n",
    "\n",
    "from random import random\n",
    "\n",
    "# create an array of double-precision floats from iterable object\n",
    "floats = array('d', (random() for i in range(10**7)))\n",
    "fp = open('floats.bin', 'wb')   #\n",
    "floats.tofile(fp)\n",
    "fp.close()\n",
    "floats2 = array('d')\n",
    "fp = open('floats.bin', 'rb')\n",
    "floats2.fromfile(fp, 10**7)     # read 10 mil numbers from binary file\n",
    "\n",
    "print(floats2 == floats)"
   ],
   "metadata": {
    "collapsed": false,
    "pycharm": {
     "name": "#%%\n"
    }
   }
  }
 ],
 "metadata": {
  "kernelspec": {
   "display_name": "Python 3",
   "language": "python",
   "name": "python3"
  },
  "language_info": {
   "codemirror_mode": {
    "name": "ipython",
    "version": 2
   },
   "file_extension": ".py",
   "mimetype": "text/x-python",
   "name": "python",
   "nbconvert_exporter": "python",
   "pygments_lexer": "ipython2",
   "version": "2.7.6"
  }
 },
 "nbformat": 4,
 "nbformat_minor": 0
}
{
 "cells": [
  {
   "cell_type": "code",
   "execution_count": 4,
   "metadata": {
    "collapsed": true
   },
   "outputs": [
    {
     "name": "stdout",
     "output_type": "stream",
     "text": [
      "l*5 = [1, 2, 3, 1, 2, 3, 1, 2, 3, 1, 2, 3, 1, 2, 3]\n",
      "s*5 = abcdabcdabcdabcdabcd\n",
      "ll*2 = [[1, 2, 3], [4, 5, 6], [7, 8, 9], [1, 2, 3], [4, 5, 6], [7, 8, 9]]\n",
      "ll*2 = [[0, 2, 3], [4, 5, 6], [7, 8, 9], [0, 2, 3], [4, 5, 6], [7, 8, 9]]\n"
     ]
    }
   ],
   "source": [
    "l = [1,2,3]\n",
    "print('l*5 =', l*5)\n",
    "\n",
    "s = 'abcd'\n",
    "print('s*5 =', s*5)\n",
    "\n",
    "ll = [[1,2,3], [4,5,6], [7,8,9]]\n",
    "ll2 = ll*2  # a list with two references to the same inner list\n",
    "print('ll*2 =', ll2)\n",
    "ll[0][0] = 0\n",
    "print('ll*2 =', ll2)"
   ]
  }
 ],
 "metadata": {
  "kernelspec": {
   "display_name": "Python 3",
   "language": "python",
   "name": "python3"
  },
  "language_info": {
   "codemirror_mode": {
    "name": "ipython",
    "version": 3
   },
   "file_extension": ".py",
   "mimetype": "text/x-python",
   "name": "python",
   "nbconvert_exporter": "python",
   "pygments_lexer": "ipython3",
   "version": "3.7.6"
  }
 },
 "nbformat": 4,
 "nbformat_minor": 1
}

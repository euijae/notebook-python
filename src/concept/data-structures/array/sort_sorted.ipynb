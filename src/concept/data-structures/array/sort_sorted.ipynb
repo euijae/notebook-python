{
 "cells": [
  {
   "cell_type": "code",
   "execution_count": 8,
   "metadata": {
    "collapsed": true,
    "pycharm": {
     "name": "#%%\n"
    }
   },
   "outputs": [
    {
     "name": "stdout",
     "output_type": "stream",
     "text": [
      "fruits = ['grape', 'raspberry', 'apple', 'banana']\n",
      "sorted(fruits) = ['apple', 'banana', 'grape', 'raspberry']\n",
      "fruits = ['grape', 'raspberry', 'apple', 'banana']\n",
      "sorted(fruits, reverse=True) = ['raspberry', 'grape', 'banana', 'apple']\n",
      "sorted(fruits, key=len) = ['grape', 'apple', 'banana', 'raspberry']\n",
      "sorted(fruits, reverse=True, key=len) = ['raspberry', 'banana', 'grape', 'apple']\n",
      "fruits = ['apple', 'banana', 'grape', 'raspberry']\n"
     ]
    }
   ],
   "source": [
    "\"\"\"\n",
    "list.sort method sorts a list in place but returns None. It doesn't create a new object.\n",
    "sorted creates a new list and returns it.\n",
    "\"\"\"\n",
    "\n",
    "fruits = ['grape', 'raspberry', 'apple', 'banana']\n",
    "print('fruits =', fruits)\n",
    "print('sorted(fruits) =', sorted(fruits))\n",
    "print('fruits =', fruits)\n",
    "print('sorted(fruits, reverse=True) =', sorted(fruits, reverse=True))\n",
    "print('sorted(fruits, key=len) =', sorted(fruits, key=len))\n",
    "print('sorted(fruits, reverse=True, key=len) =', sorted(fruits,reverse=True, key=len))  # order of reverse and key don't matter\n",
    "\n",
    "fruits.sort(key=str.lower)\n",
    "print('fruits =', fruits)\n",
    "\n"
   ]
  }
 ],
 "metadata": {
  "kernelspec": {
   "display_name": "Python 3",
   "language": "python",
   "name": "python3"
  },
  "language_info": {
   "codemirror_mode": {
    "name": "ipython",
    "version": 2
   },
   "file_extension": ".py",
   "mimetype": "text/x-python",
   "name": "python",
   "nbconvert_exporter": "python",
   "pygments_lexer": "ipython2",
   "version": "2.7.6"
  }
 },
 "nbformat": 4,
 "nbformat_minor": 0
}
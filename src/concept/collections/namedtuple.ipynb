{
 "cells": [
  {
   "cell_type": "code",
   "execution_count": 23,
   "metadata": {
    "collapsed": true,
    "pycharm": {
     "name": "#%%\n"
    }
   },
   "outputs": [
    {
     "name": "stdout",
     "output_type": "stream",
     "text": [
      "Point(x=10, y=20)\n",
      "p.x = 10\n",
      "p.y = 20\n",
      "p[0]= 10\n",
      "p[1]= 20\n",
      "getattr = 10\n"
     ]
    }
   ],
   "source": [
    "from collections import namedtuple\n",
    "\n",
    "Point = namedtuple('Point', ['x', 'y'])\n",
    "\n",
    "p = Point(10, 20)\n",
    "\n",
    "print(p)\n",
    "print('p.x =', p.x)\n",
    "print('p.y =', p.y)\n",
    "print('p[0]=', p[0])\n",
    "print('p[1]=', p[1])\n",
    "print('getattr =', getattr(p, 'x'))"
   ]
  },
  {
   "cell_type": "code",
   "execution_count": 24,
   "outputs": [
    {
     "name": "stdout",
     "output_type": "stream",
     "text": [
      "Convert to dictionary =  {'x': 10, 'y': 20}\n",
      "unpack x =  10  y: 20\n",
      "Convert from dictionary =  Point(x=10, y=20)\n",
      "set new x =  Point(x=100, y=20)\n"
     ]
    }
   ],
   "source": [
    "from collections import namedtuple\n",
    "\n",
    "Point = namedtuple('Point', ['x', 'y'])\n",
    "\n",
    "p = Point(10, 20)\n",
    "d = p._asdict()     # convert to dict\n",
    "x, y = p            # unpack p\n",
    "print('Convert to dictionary = ', d)\n",
    "print('unpack x = ', x, ' y:', y)\n",
    "print('Convert from dictionary = ', Point(**d))\n",
    "newP = p._replace(x = 100)\n",
    "print('set new x = ', newP)"
   ],
   "metadata": {
    "collapsed": false,
    "pycharm": {
     "name": "#%%\n"
    }
   }
  }
 ],
 "metadata": {
  "kernelspec": {
   "display_name": "Python 3",
   "language": "python",
   "name": "python3"
  },
  "language_info": {
   "codemirror_mode": {
    "name": "ipython",
    "version": 2
   },
   "file_extension": ".py",
   "mimetype": "text/x-python",
   "name": "python",
   "nbconvert_exporter": "python",
   "pygments_lexer": "ipython2",
   "version": "2.7.6"
  },
  "pycharm": {
   "stem_cell": {
    "cell_type": "raw",
    "source": [
     "namedtuple can be used to build classes of objects that are just bundles of attributes with no custom methods, like a database record.\n"
    ],
    "metadata": {
     "collapsed": false
    }
   }
  }
 },
 "nbformat": 4,
 "nbformat_minor": 0
}
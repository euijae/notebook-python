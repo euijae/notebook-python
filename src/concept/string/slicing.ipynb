{
 "cells": [
  {
   "cell_type": "code",
   "execution_count": 1,
   "outputs": [],
   "source": [
    "'''\n",
    "string[start:end:step]\n",
    "'''\n",
    "str = \"0123456789\""
   ],
   "metadata": {
    "collapsed": false,
    "pycharm": {
     "name": "#%%\n"
    }
   }
  },
  {
   "cell_type": "code",
   "execution_count": 2,
   "outputs": [
    {
     "name": "stdout",
     "output_type": "stream",
     "text": [
      "str[0:4] 0123\n",
      "str[1:7] 123456\n",
      "str[8:len(str)] True\n",
      "str[0:7] 0123456\n",
      "str[0:7:2] 0246\n",
      "str[10:2:-1] 9876543\n",
      "str[10:0:-2] 97531\n",
      "str[:8] 01234567\n",
      "str[8:] 89\n",
      "9876543210\n"
     ]
    }
   ],
   "source": [
    "print(\"str[0:4]\", str[0:4])\n",
    "print(\"str[1:7]\", str[1:7])\n",
    "print(\"str[8:len(str)]\", str[100:len(str)] == '')\n",
    "\n",
    "# forward step\n",
    "print(\"str[0:7]\", str[0:7])\n",
    "print(\"str[0:7:2]\", str[0:7:2])\n",
    "\n",
    "# negative step\n",
    "print(\"str[10:2:-1]\", str[10:2:-1])  # 9876543\n",
    "print(\"str[10:0:-2]\", str[10:0:-2])  # 97531\n",
    "\n",
    "# Partial slicing\n",
    "print(\"str[:8]\", str[:8])  # all the characters before 8th - 0...7\n",
    "print(\"str[8:]\", str[8:])  # all the characters starting from 8th - 89\n",
    "print(str[::-1])  # The whole string in reverse"
   ],
   "metadata": {
    "collapsed": false,
    "pycharm": {
     "name": "#%%\n"
    }
   }
  },
  {
   "cell_type": "code",
   "execution_count": 7,
   "outputs": [
    {
     "name": "stdout",
     "output_type": "stream",
     "text": [
      "s =  bicycle\n",
      "s[::3] =  bye\n",
      "s[::-1] =  elcycib\n",
      "s[::-2] =  eccb\n"
     ]
    }
   ],
   "source": [
    "\"\"\"\n",
    "Example with string\n",
    "\"\"\"\n",
    "s = 'bicycle'\n",
    "print(\"s = \", s)\n",
    "print(\"s[::3] = \", s[::3])\n",
    "print(\"s[::-1] = \", s[::-1])\n",
    "print(\"s[::-2] = \", s[::-2])"
   ],
   "metadata": {
    "collapsed": false,
    "pycharm": {
     "name": "#%%\n"
    }
   }
  },
  {
   "cell_type": "code",
   "execution_count": 18,
   "outputs": [
    {
     "name": "stdout",
     "output_type": "stream",
     "text": [
      "1909  Pimoroni PiBrella                     $17.50    3    $52.50\n",
      "1489  6mm Tactile Switch x20                 $4.95    2     $9.90\n",
      "1510  Panavise Jr. - PV-201                 $28.00    1    $28.00\n",
      "1601  PiTFT Mini Kit 320x240                $34.95    1    $34.95\n",
      "\n"
     ]
    }
   ],
   "source": [
    "invoice = \"\"\"\n",
    "0.....6.................................40........52...55........\n",
    "1909  Pimoroni PiBrella                     $17.50    3    $52.50\n",
    "1489  6mm Tactile Switch x20                 $4.95    2     $9.90\n",
    "1510  Panavise Jr. - PV-201                 $28.00    1    $28.00\n",
    "1601  PiTFT Mini Kit 320x240                $34.95    1    $34.95\n",
    "\"\"\"\n",
    "SKU = slice(0, 6)\n",
    "DESCRIPTION = slice(6, 40)\n",
    "UNIT_PRICE = slice(40, 52)\n",
    "QUANTITY = slice(52, 55)\n",
    "ITEM_TOTAL = slice(55, None)\n",
    "line_items = invoice.split('\\n')[2:]\n",
    "\n",
    "for item in line_items:\n",
    "    print(item[UNIT_PRICE], item[DESCRIPTION])"
   ],
   "metadata": {
    "collapsed": false,
    "pycharm": {
     "name": "#%% application\n"
    }
   }
  },
  {
   "cell_type": "code",
   "execution_count": 35,
   "outputs": [
    {
     "name": "stdout",
     "output_type": "stream",
     "text": [
      "    0, 1, 2, 3, 4, 5, 6, 7, 8, 9\n",
      "l: [0, 1, 2, 3, 4, 5, 6, 7, 8, 9] \n",
      "\n",
      "l[2:5] = [20, 30]\n",
      "    0, 1, 2, 3, 4, 5, 6, 7, 8, 9\n",
      "l: [0, 1, 20, 30, 5, 6, 7, 8, 9] \n",
      "\n",
      "del l[5:7]\n",
      "    0, 1, 2, 3, 4, 5, 6, 7, 8, 9\n",
      "l: [0, 1, 20, 30, 5, 8, 9] \n",
      "\n",
      "l[3::2] = [11, 22]\n",
      "    0, 1, 2, 3, 4, 5, 6, 7, 8, 9\n",
      "l: [0, 1, 20, 11, 5, 22, 9] \n",
      "\n",
      "l[2:5] = [100]\n",
      "    0, 1, 2, 3, 4, 5, 6, 7, 8, 9\n",
      "l: [0, 1, 100, 22, 9] \n",
      "\n"
     ]
    }
   ],
   "source": [
    "l = list(range(10))\n",
    "header = '    0, 1, 2, 3, 4, 5, 6, 7, 8, 9'\n",
    "print(header)\n",
    "print('l:', l, '\\n')\n",
    "\n",
    "\n",
    "# reassign\n",
    "l[2:5] = [20, 30]\n",
    "print('l[2:5] = [20, 30]')\n",
    "print(header)\n",
    "print('l:', l,'\\n')\n",
    "\n",
    "del l[5:7]\n",
    "print('del l[5:7]')\n",
    "print(header)\n",
    "print('l:', l,'\\n')\n",
    "\n",
    "l[3::2] = [11, 22]\n",
    "print('l[3::2] = [11, 22]')\n",
    "print(header)\n",
    "print('l:', l,'\\n')\n",
    "\n",
    "# l[2:5] = 100 # compile error!\n",
    "l[2:5] = [100]  # right side must be an iterable when the target of assignment is a slice\n",
    "print('l[2:5] = [100]')\n",
    "print(header)\n",
    "print('l:', l,'\\n')"
   ],
   "metadata": {
    "collapsed": false,
    "pycharm": {
     "name": "#%% Assigning to slices\n"
    }
   }
  }
 ],
 "metadata": {
  "kernelspec": {
   "display_name": "Python 3",
   "language": "python",
   "name": "python3"
  },
  "language_info": {
   "codemirror_mode": {
    "name": "ipython",
    "version": 2
   },
   "file_extension": ".py",
   "mimetype": "text/x-python",
   "name": "python",
   "nbconvert_exporter": "python",
   "pygments_lexer": "ipython2",
   "version": "2.7.6"
  }
 },
 "nbformat": 4,
 "nbformat_minor": 0
}